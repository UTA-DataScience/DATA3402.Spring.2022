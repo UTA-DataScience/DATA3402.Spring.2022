{
 "cells": [
  {
   "cell_type": "code",
   "execution_count": 12,
   "id": "481a3da8",
   "metadata": {},
   "outputs": [],
   "source": [
    "def make_deck():\n",
    "    Suits=['C','H','S','D']\n",
    "    Values=['A',2,3,4,5,6,7,8,9,10,'J','Q','K']\n",
    "    Deck=list()\n",
    "    for i in range(len(Values)):\n",
    "        for j in range(len(Suits)):\n",
    "            Deck.append((Suits[j],Values[i]))\n",
    "    return Deck"
   ]
  },
  {
   "cell_type": "code",
   "execution_count": 13,
   "id": "a5b1f84c",
   "metadata": {},
   "outputs": [
    {
     "name": "stdout",
     "output_type": "stream",
     "text": [
      "[('C', 'A'), ('H', 'A'), ('S', 'A'), ('D', 'A'), ('C', 2), ('H', 2), ('S', 2), ('D', 2), ('C', 3), ('H', 3), ('S', 3), ('D', 3), ('C', 4), ('H', 4), ('S', 4), ('D', 4), ('C', 5), ('H', 5), ('S', 5), ('D', 5), ('C', 6), ('H', 6), ('S', 6), ('D', 6), ('C', 7), ('H', 7), ('S', 7), ('D', 7), ('C', 8), ('H', 8), ('S', 8), ('D', 8), ('C', 9), ('H', 9), ('S', 9), ('D', 9), ('C', 10), ('H', 10), ('S', 10), ('D', 10), ('C', 'J'), ('H', 'J'), ('S', 'J'), ('D', 'J'), ('C', 'Q'), ('H', 'Q'), ('S', 'Q'), ('D', 'Q'), ('C', 'K'), ('H', 'K'), ('S', 'K'), ('D', 'K')]\n"
     ]
    }
   ],
   "source": [
    "test=make_deck()\n",
    "print(test)"
   ]
  }
 ],
 "metadata": {
  "kernelspec": {
   "display_name": "Python 3 (ipykernel)",
   "language": "python",
   "name": "python3"
  },
  "language_info": {
   "codemirror_mode": {
    "name": "ipython",
    "version": 3
   },
   "file_extension": ".py",
   "mimetype": "text/x-python",
   "name": "python",
   "nbconvert_exporter": "python",
   "pygments_lexer": "ipython3",
   "version": "3.8.9"
  }
 },
 "nbformat": 4,
 "nbformat_minor": 5
}
